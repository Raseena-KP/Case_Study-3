{
 "cells": [
  {
   "cell_type": "markdown",
   "id": "faad0fdb",
   "metadata": {},
   "source": [
    "# Case Study on Testing of Hypothesis\n"
   ]
  },
  {
   "cell_type": "code",
   "execution_count": 20,
   "id": "57f8f9da",
   "metadata": {},
   "outputs": [],
   "source": [
    "# importing libraries\n",
    "import pandas as pd\n",
    "import numpy as np\n",
    "import matplotlib.pyplot as plt\n",
    "import seaborn as sns\n",
    "import statistics\n",
    "import math"
   ]
  },
  {
   "cell_type": "code",
   "execution_count": 3,
   "id": "24ea7a97",
   "metadata": {},
   "outputs": [
    {
     "data": {
      "text/html": [
       "<div>\n",
       "<style scoped>\n",
       "    .dataframe tbody tr th:only-of-type {\n",
       "        vertical-align: middle;\n",
       "    }\n",
       "\n",
       "    .dataframe tbody tr th {\n",
       "        vertical-align: top;\n",
       "    }\n",
       "\n",
       "    .dataframe thead th {\n",
       "        text-align: right;\n",
       "    }\n",
       "</style>\n",
       "<table border=\"1\" class=\"dataframe\">\n",
       "  <thead>\n",
       "    <tr style=\"text-align: right;\">\n",
       "      <th></th>\n",
       "      <th>Month</th>\n",
       "      <th>Region</th>\n",
       "      <th>Manager</th>\n",
       "      <th>Sales_before_digital_add(in $)</th>\n",
       "      <th>Sales_After_digital_add(in $)</th>\n",
       "    </tr>\n",
       "  </thead>\n",
       "  <tbody>\n",
       "    <tr>\n",
       "      <th>0</th>\n",
       "      <td>Month-1</td>\n",
       "      <td>Region - A</td>\n",
       "      <td>Manager - A</td>\n",
       "      <td>132921</td>\n",
       "      <td>270390</td>\n",
       "    </tr>\n",
       "    <tr>\n",
       "      <th>1</th>\n",
       "      <td>Month-2</td>\n",
       "      <td>Region - A</td>\n",
       "      <td>Manager - C</td>\n",
       "      <td>149559</td>\n",
       "      <td>223334</td>\n",
       "    </tr>\n",
       "    <tr>\n",
       "      <th>2</th>\n",
       "      <td>Month-3</td>\n",
       "      <td>Region - B</td>\n",
       "      <td>Manager - A</td>\n",
       "      <td>146278</td>\n",
       "      <td>244243</td>\n",
       "    </tr>\n",
       "    <tr>\n",
       "      <th>3</th>\n",
       "      <td>Month-4</td>\n",
       "      <td>Region - B</td>\n",
       "      <td>Manager - B</td>\n",
       "      <td>152167</td>\n",
       "      <td>231808</td>\n",
       "    </tr>\n",
       "    <tr>\n",
       "      <th>4</th>\n",
       "      <td>Month-5</td>\n",
       "      <td>Region - C</td>\n",
       "      <td>Manager - B</td>\n",
       "      <td>159525</td>\n",
       "      <td>258402</td>\n",
       "    </tr>\n",
       "  </tbody>\n",
       "</table>\n",
       "</div>"
      ],
      "text/plain": [
       "     Month      Region      Manager  Sales_before_digital_add(in $)  \\\n",
       "0  Month-1  Region - A  Manager - A                          132921   \n",
       "1  Month-2  Region - A  Manager - C                          149559   \n",
       "2  Month-3  Region - B  Manager - A                          146278   \n",
       "3  Month-4  Region - B  Manager - B                          152167   \n",
       "4  Month-5  Region - C  Manager - B                          159525   \n",
       "\n",
       "   Sales_After_digital_add(in $)  \n",
       "0                         270390  \n",
       "1                         223334  \n",
       "2                         244243  \n",
       "3                         231808  \n",
       "4                         258402  "
      ]
     },
     "execution_count": 3,
     "metadata": {},
     "output_type": "execute_result"
    }
   ],
   "source": [
    "#read data\n",
    "df=pd.read_csv(\"Sales_add.csv\")\n",
    "df.head()"
   ]
  },
  {
   "cell_type": "code",
   "execution_count": 5,
   "id": "28095dbe",
   "metadata": {},
   "outputs": [
    {
     "data": {
      "text/plain": [
       "0"
      ]
     },
     "execution_count": 5,
     "metadata": {},
     "output_type": "execute_result"
    }
   ],
   "source": [
    "#Checking for null values\n",
    "df.isnull().sum().sum()"
   ]
  },
  {
   "cell_type": "code",
   "execution_count": 9,
   "id": "165089f1",
   "metadata": {},
   "outputs": [
    {
     "data": {
      "text/plain": [
       "Month                             object\n",
       "Region                            object\n",
       "Manager                           object\n",
       "Sales_before_digital_add(in $)     int64\n",
       "Sales_After_digital_add(in $)      int64\n",
       "dtype: object"
      ]
     },
     "execution_count": 9,
     "metadata": {},
     "output_type": "execute_result"
    }
   ],
   "source": [
    "# Checking the Data Types of features\n",
    "df.dtypes"
   ]
  },
  {
   "cell_type": "code",
   "execution_count": 64,
   "id": "0829ce7f",
   "metadata": {},
   "outputs": [
    {
     "data": {
      "text/html": [
       "<div>\n",
       "<style scoped>\n",
       "    .dataframe tbody tr th:only-of-type {\n",
       "        vertical-align: middle;\n",
       "    }\n",
       "\n",
       "    .dataframe tbody tr th {\n",
       "        vertical-align: top;\n",
       "    }\n",
       "\n",
       "    .dataframe thead th {\n",
       "        text-align: right;\n",
       "    }\n",
       "</style>\n",
       "<table border=\"1\" class=\"dataframe\">\n",
       "  <thead>\n",
       "    <tr style=\"text-align: right;\">\n",
       "      <th></th>\n",
       "      <th>Sales_before_digital_add(in $)</th>\n",
       "      <th>Sales_After_digital_add(in $)</th>\n",
       "      <th>$Total_Sales</th>\n",
       "    </tr>\n",
       "  </thead>\n",
       "  <tbody>\n",
       "    <tr>\n",
       "      <th>count</th>\n",
       "      <td>22.000000</td>\n",
       "      <td>22.000000</td>\n",
       "      <td>22.000000</td>\n",
       "    </tr>\n",
       "    <tr>\n",
       "      <th>mean</th>\n",
       "      <td>149239.954545</td>\n",
       "      <td>231123.727273</td>\n",
       "      <td>380363.681818</td>\n",
       "    </tr>\n",
       "    <tr>\n",
       "      <th>std</th>\n",
       "      <td>14844.042921</td>\n",
       "      <td>25556.777061</td>\n",
       "      <td>27164.928093</td>\n",
       "    </tr>\n",
       "    <tr>\n",
       "      <th>min</th>\n",
       "      <td>130263.000000</td>\n",
       "      <td>187305.000000</td>\n",
       "      <td>335691.000000</td>\n",
       "    </tr>\n",
       "    <tr>\n",
       "      <th>25%</th>\n",
       "      <td>138087.750000</td>\n",
       "      <td>214960.750000</td>\n",
       "      <td>361961.250000</td>\n",
       "    </tr>\n",
       "    <tr>\n",
       "      <th>50%</th>\n",
       "      <td>147444.000000</td>\n",
       "      <td>229986.500000</td>\n",
       "      <td>374526.500000</td>\n",
       "    </tr>\n",
       "    <tr>\n",
       "      <th>75%</th>\n",
       "      <td>157627.500000</td>\n",
       "      <td>250909.000000</td>\n",
       "      <td>396667.750000</td>\n",
       "    </tr>\n",
       "    <tr>\n",
       "      <th>max</th>\n",
       "      <td>178939.000000</td>\n",
       "      <td>276279.000000</td>\n",
       "      <td>455218.000000</td>\n",
       "    </tr>\n",
       "  </tbody>\n",
       "</table>\n",
       "</div>"
      ],
      "text/plain": [
       "       Sales_before_digital_add(in $)  Sales_After_digital_add(in $)  \\\n",
       "count                       22.000000                      22.000000   \n",
       "mean                    149239.954545                  231123.727273   \n",
       "std                      14844.042921                   25556.777061   \n",
       "min                     130263.000000                  187305.000000   \n",
       "25%                     138087.750000                  214960.750000   \n",
       "50%                     147444.000000                  229986.500000   \n",
       "75%                     157627.500000                  250909.000000   \n",
       "max                     178939.000000                  276279.000000   \n",
       "\n",
       "        $Total_Sales  \n",
       "count      22.000000  \n",
       "mean   380363.681818  \n",
       "std     27164.928093  \n",
       "min    335691.000000  \n",
       "25%    361961.250000  \n",
       "50%    374526.500000  \n",
       "75%    396667.750000  \n",
       "max    455218.000000  "
      ]
     },
     "execution_count": 64,
     "metadata": {},
     "output_type": "execute_result"
    }
   ],
   "source": [
    "df.describe()"
   ]
  },
  {
   "cell_type": "markdown",
   "id": "bc092f13",
   "metadata": {},
   "source": [
    "# 1.The company wishes to clarify whether there is any increase in sales after stepping into digital marketing."
   ]
  },
  {
   "cell_type": "code",
   "execution_count": 79,
   "id": "638875ac",
   "metadata": {},
   "outputs": [
    {
     "data": {
      "image/png": "[encoded data removed]",
      "text/plain": [
       "<Figure size 432x288 with 2 Axes>"
      ]
     },
     "metadata": {
      "needs_background": "light"
     },
     "output_type": "display_data"
    }
   ],
   "source": [
    "plt.subplot(1,2,1)\n",
    "sns.boxplot(data=df,y=\"Sales_before_digital_add(in $)\")\n",
    "plt.title(\"Sales_before_digital_add\")\n",
    "plt.subplot(1,2,2)\n",
    "sns.boxplot(data=df,y=\"Sales_After_digital_add(in $)\")\n",
    "plt.title(\"Sales_After_digital_add\")\n",
    "plt.tight_layout()"
   ]
  },
  {
   "cell_type": "markdown",
   "id": "993af9d1",
   "metadata": {},
   "source": [
    "No outlier Present"
   ]
  },
  {
   "cell_type": "code",
   "execution_count": 36,
   "id": "4fee0814",
   "metadata": {},
   "outputs": [
    {
     "name": "stdout",
     "output_type": "stream",
     "text": [
      "Level_of_Significance: 0.05\n",
      "We will go for T-test, since it is one direction\n"
     ]
    }
   ],
   "source": [
    "# H0=digital marketing has no impact on sales\n",
    "# Ha=There is an increase in sales after stepping into digital marketing\n",
    "\n",
    "level_of_Significance=0.05\n",
    "print(\"Level_of_Significance:\",str(level_of_Significance))\n",
    "\n",
    "print(\"We will go for T-test, since it is one direction\")"
   ]
  },
  {
   "cell_type": "code",
   "execution_count": 42,
   "id": "48770040",
   "metadata": {},
   "outputs": [],
   "source": [
    "Sample_b=df[\"Sales_before_digital_add(in $)\"].to_numpy()\n",
    "Sample_a=df[\"Sales_After_digital_add(in $)\"].to_numpy()"
   ]
  },
  {
   "cell_type": "code",
   "execution_count": 43,
   "id": "e21341a7",
   "metadata": {},
   "outputs": [],
   "source": [
    "# importing library\n",
    "from scipy.stats import ttest_ind"
   ]
  },
  {
   "cell_type": "code",
   "execution_count": 44,
   "id": "e5a378e5",
   "metadata": {},
   "outputs": [],
   "source": [
    "#computing ttest\n",
    "_,p=ttest_ind(Sample_b,Sample_a)"
   ]
  },
  {
   "cell_type": "code",
   "execution_count": 45,
   "id": "efce28d3",
   "metadata": {},
   "outputs": [
    {
     "name": "stdout",
     "output_type": "stream",
     "text": [
      "Rejecting null Hypothesis\n"
     ]
    }
   ],
   "source": [
    "# Comparing the p value with level of significance\n",
    "if p>level_of_Significance:\n",
    "    print(\"Failing to reject null Hypothesis\")\n",
    "else:\n",
    "    print(\"Rejecting null Hypothesis\")"
   ]
  },
  {
   "cell_type": "code",
   "execution_count": 46,
   "id": "83819845",
   "metadata": {},
   "outputs": [],
   "source": [
    "#Conclusion:\n",
    "    # Based on the testing carried out in the provided data, we are rejecting the null hypothesis\n",
    "    # We can conclude that There is an increase in sales after stepping into digital marketing"
   ]
  },
  {
   "cell_type": "markdown",
   "id": "f7362102",
   "metadata": {},
   "source": [
    "# 2. The company needs to check whether there is any dependency between the features “Region” and “Manager”."
   ]
  },
  {
   "cell_type": "code",
   "execution_count": 49,
   "id": "f5dc1333",
   "metadata": {},
   "outputs": [
    {
     "name": "stdout",
     "output_type": "stream",
     "text": [
      "level_of_Significance= 0.05\n"
     ]
    }
   ],
   "source": [
    "# H0=There is no dependency between the features “Region” and “Manager”\n",
    "# Ha=There is a dependency between the features “Region” and “Manager”\n",
    "\n",
    "print(\"level_of_Significance=\",str(level_of_Significance))"
   ]
  },
  {
   "cell_type": "code",
   "execution_count": 81,
   "id": "c5c27f64",
   "metadata": {},
   "outputs": [
    {
     "data": {
      "text/html": [
       "<div>\n",
       "<style scoped>\n",
       "    .dataframe tbody tr th:only-of-type {\n",
       "        vertical-align: middle;\n",
       "    }\n",
       "\n",
       "    .dataframe tbody tr th {\n",
       "        vertical-align: top;\n",
       "    }\n",
       "\n",
       "    .dataframe thead th {\n",
       "        text-align: right;\n",
       "    }\n",
       "</style>\n",
       "<table border=\"1\" class=\"dataframe\">\n",
       "  <thead>\n",
       "    <tr style=\"text-align: right;\">\n",
       "      <th>Manager</th>\n",
       "      <th>Manager - A</th>\n",
       "      <th>Manager - B</th>\n",
       "      <th>Manager - C</th>\n",
       "    </tr>\n",
       "    <tr>\n",
       "      <th>Region</th>\n",
       "      <th></th>\n",
       "      <th></th>\n",
       "      <th></th>\n",
       "    </tr>\n",
       "  </thead>\n",
       "  <tbody>\n",
       "    <tr>\n",
       "      <th>Region - A</th>\n",
       "      <td>4</td>\n",
       "      <td>3</td>\n",
       "      <td>3</td>\n",
       "    </tr>\n",
       "    <tr>\n",
       "      <th>Region - B</th>\n",
       "      <td>4</td>\n",
       "      <td>1</td>\n",
       "      <td>2</td>\n",
       "    </tr>\n",
       "    <tr>\n",
       "      <th>Region - C</th>\n",
       "      <td>1</td>\n",
       "      <td>3</td>\n",
       "      <td>1</td>\n",
       "    </tr>\n",
       "  </tbody>\n",
       "</table>\n",
       "</div>"
      ],
      "text/plain": [
       "Manager     Manager - A  Manager - B  Manager - C\n",
       "Region                                           \n",
       "Region - A            4            3            3\n",
       "Region - B            4            1            2\n",
       "Region - C            1            3            1"
      ]
     },
     "execution_count": 81,
     "metadata": {},
     "output_type": "execute_result"
    }
   ],
   "source": [
    "data_Crosstab=pd.crosstab(index=df['Region'], columns=df['Manager'])\n",
    "data_Crosstab"
   ]
  },
  {
   "cell_type": "code",
   "execution_count": 83,
   "id": "be7f2812",
   "metadata": {},
   "outputs": [],
   "source": [
    "# importing library to perform chi-Test\n",
    "from scipy.stats import chi2_contingency"
   ]
  },
  {
   "cell_type": "code",
   "execution_count": 91,
   "id": "7aab2db6",
   "metadata": {},
   "outputs": [],
   "source": [
    "# To undestand the relationship between 2 Categorical variable, we use Chi-Test\n",
    "chi2_statistic, p, dof, expctd=chi2_contingency(data_Crosstab)"
   ]
  },
  {
   "cell_type": "code",
   "execution_count": 95,
   "id": "3ca657a8",
   "metadata": {},
   "outputs": [
    {
     "name": "stdout",
     "output_type": "stream",
     "text": [
      "chi2 statistic:     3.050566893424036\n",
      "p-value:            0.5493991051158094\n",
      "degrees of freedom: 4\n",
      "expected frequencies:\n",
      "[[4.09090909 3.18181818 2.72727273]\n",
      " [2.86363636 2.22727273 1.90909091]\n",
      " [2.04545455 1.59090909 1.36363636]]\n"
     ]
    }
   ],
   "source": [
    "print(f\"chi2 statistic:     {chi2_statistic}\")\n",
    "print(f\"p-value:            {p}\")\n",
    "print(f\"degrees of freedom: {dof}\")\n",
    "print(\"expected frequencies:\")\n",
    "print(expctd)"
   ]
  },
  {
   "cell_type": "code",
   "execution_count": 96,
   "id": "f87fd31e",
   "metadata": {},
   "outputs": [
    {
     "name": "stdout",
     "output_type": "stream",
     "text": [
      "Failing to reject null hypothesis\n"
     ]
    }
   ],
   "source": [
    "if p>level_of_Significance:\n",
    "    print(\"Failing to reject null hypothesis\")\n",
    "else:\n",
    "    print(\"Rejecting null hypothesis\")"
   ]
  },
  {
   "cell_type": "code",
   "execution_count": 97,
   "id": "126a2b0d",
   "metadata": {},
   "outputs": [],
   "source": [
    "#Conclusion:\n",
    "    # Based on the testing carried out in the provided data, we are Failing to reject null hypothesis \n",
    "    # We can conclude that There is no significant dependency between the features “Region” and “Manager”"
   ]
  },
  {
   "cell_type": "code",
   "execution_count": null,
   "id": "8157fbb0",
   "metadata": {},
   "outputs": [],
   "source": []
  },
  {
   "cell_type": "code",
   "execution_count": null,
   "id": "aa6f582c",
   "metadata": {},
   "outputs": [],
   "source": []
  }
 ],
 "metadata": {
  "kernelspec": {
   "display_name": "Python 3 (ipykernel)",
   "language": "python",
   "name": "python3"
  },
  "language_info": {
   "codemirror_mode": {
    "name": "ipython",
    "version": 3
   },
   "file_extension": ".py",
   "mimetype": "text/x-python",
   "name": "python",
   "nbconvert_exporter": "python",
   "pygments_lexer": "ipython3",
   "version": "3.9.12"
  }
 },
 "nbformat": 4,
 "nbformat_minor": 5
}
